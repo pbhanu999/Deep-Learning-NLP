{
 "cells": [
  {
   "cell_type": "markdown",
   "metadata": {},
   "source": [
    "# Kaggle toxic-comment-classification-challenge"
   ]
  },
  {
   "cell_type": "code",
   "execution_count": 13,
   "metadata": {},
   "outputs": [],
   "source": [
    "from __future__ import print_function, division\n",
    "from builtins import range\n",
    "import sys"
   ]
  },
  {
   "cell_type": "code",
   "execution_count": 14,
   "metadata": {},
   "outputs": [],
   "source": [
    "import os\n",
    "import numpy as np\n",
    "import pandas as pd\n",
    "import matplotlib.pyplot as plt\n",
    "from keras.preprocessing.text import Tokenizer\n",
    "from keras.preprocessing.sequence import pad_sequences\n",
    "from keras.layers import Dense, Input, GlobalMaxPooling1D\n",
    "from keras.layers import Conv1D, MaxPooling1D, Embedding\n",
    "from keras.models import Model\n",
    "from sklearn.metrics import roc_auc_score"
   ]
  },
  {
   "cell_type": "markdown",
   "metadata": {},
   "source": [
    "# Configs"
   ]
  },
  {
   "cell_type": "code",
   "execution_count": 15,
   "metadata": {},
   "outputs": [],
   "source": [
    "MAX_SEQUENCE_LENGTH = 100\n",
    "MAX_VOCAB_SIZE = 20000\n",
    "EMBEDDING_DIM = 300\n",
    "VALIDATION_SPLIT = 0.2\n",
    "BATCH_SIZE = 128\n",
    "EPOCHS = 10"
   ]
  },
  {
   "cell_type": "markdown",
   "metadata": {},
   "source": [
    "# Download the data:\n",
    "# https://www.kaggle.com/c/jigsaw-toxic-comment-classification-challenge\n",
    "# Download the word vectors:\n",
    "# http://nlp.stanford.edu/data/glove.6B.zip"
   ]
  },
  {
   "cell_type": "markdown",
   "metadata": {},
   "source": [
    "# load in pre-trained word vectors"
   ]
  },
  {
   "cell_type": "code",
   "execution_count": 25,
   "metadata": {},
   "outputs": [
    {
     "name": "stdout",
     "output_type": "stream",
     "text": [
      "Loading word vectors...\n",
      "Found 400000 word vectors.\n"
     ]
    }
   ],
   "source": [
    "\n",
    "print('word vectors')\n",
    "word2vec = {}\n",
    "with open(os.path.join('glove.6B.%sd.txt' % EMBEDDING_DIM),encoding=\"utf8\") as f:\n",
    "  # is just a space-separated text file in the format:\n",
    "  # word vec[0] vec[1] vec[2] ...\n",
    "  for line in f:\n",
    "    values = line.split()\n",
    "    word = values[0]\n",
    "    vec = np.asarray(values[1:], dtype='float32')\n",
    "    word2vec[word] = vec\n",
    "print('Found %s word vectors.' % len(word2vec))"
   ]
  },
  {
   "cell_type": "markdown",
   "metadata": {},
   "source": [
    "# importing training data"
   ]
  },
  {
   "cell_type": "code",
   "execution_count": 27,
   "metadata": {},
   "outputs": [],
   "source": [
    "train = pd.read_csv(\"train.csv\")\n",
    "sentences = train[\"comment_text\"].fillna(\"DUMMY_VALUE\").values\n",
    "labels = [\"toxic\", \"severe_toxic\", \"obscene\", \"threat\", \"insult\", \"identity_hate\"]\n",
    "target = train[labels].values\n"
   ]
  },
  {
   "cell_type": "markdown",
   "metadata": {},
   "source": [
    "# Converting the sentences (strings) into integers"
   ]
  },
  {
   "cell_type": "code",
   "execution_count": 28,
   "metadata": {},
   "outputs": [],
   "source": [
    "tokenizer = Tokenizer(num_words=MAX_VOCAB_SIZE)\n",
    "tokenizer.fit_on_texts(sentences)\n",
    "sequences = tokenizer.texts_to_sequences(sentences)"
   ]
  },
  {
   "cell_type": "code",
   "execution_count": 29,
   "metadata": {},
   "outputs": [
    {
     "name": "stdout",
     "output_type": "stream",
     "text": [
      "max sequence length: 1400\n",
      "min sequence length: 0\n",
      "median sequence length: 35\n"
     ]
    }
   ],
   "source": [
    "print(\"max sequence length:\", max(len(s) for s in sequences))\n",
    "print(\"min sequence length:\", min(len(s) for s in sequences))\n",
    "s = sorted(len(s) for s in sequences)\n",
    "print(\"median sequence length:\", s[len(s) // 2])\n"
   ]
  },
  {
   "cell_type": "code",
   "execution_count": 30,
   "metadata": {},
   "outputs": [
    {
     "name": "stdout",
     "output_type": "stream",
     "text": [
      "Found 210337 unique tokens.\n"
     ]
    }
   ],
   "source": [
    "word2idx = tokenizer.word_index\n",
    "print('Found %s unique tokens.' % len(word2idx))\n"
   ]
  },
  {
   "cell_type": "markdown",
   "metadata": {},
   "source": [
    "# N x T matrix"
   ]
  },
  {
   "cell_type": "code",
   "execution_count": 32,
   "metadata": {},
   "outputs": [
    {
     "name": "stdout",
     "output_type": "stream",
     "text": [
      "Shape of data tensor: (159571, 100)\n"
     ]
    }
   ],
   "source": [
    "data = pad_sequences(sequences, maxlen=MAX_SEQUENCE_LENGTH)\n",
    "print('Shape of data tensor:', data.shape)"
   ]
  },
  {
   "cell_type": "markdown",
   "metadata": {},
   "source": [
    "# Embedding matrix"
   ]
  },
  {
   "cell_type": "code",
   "execution_count": 35,
   "metadata": {},
   "outputs": [],
   "source": [
    "num_words = min(MAX_VOCAB_SIZE, len(word2idx) + 1)\n",
    "embedding_matrix = np.zeros((num_words, EMBEDDING_DIM))\n",
    "for word, i in word2idx.items():   \n",
    "    if i < MAX_VOCAB_SIZE:\n",
    "        embedding_vector = word2vec.get(word)\n",
    "        if embedding_vector is not None:\n",
    "              embedding_matrix[i] = embedding_vector"
   ]
  },
  {
   "cell_type": "code",
   "execution_count": 36,
   "metadata": {},
   "outputs": [],
   "source": [
    "embedding_layer = Embedding(\n",
    "  num_words,\n",
    "  EMBEDDING_DIM,\n",
    "  weights=[embedding_matrix],\n",
    "  input_length=MAX_SEQUENCE_LENGTH,\n",
    "  trainable=False\n",
    ")\n"
   ]
  },
  {
   "cell_type": "markdown",
   "metadata": {},
   "source": [
    "# CNN "
   ]
  },
  {
   "cell_type": "code",
   "execution_count": 38,
   "metadata": {},
   "outputs": [],
   "source": [
    "X = Input(shape=(MAX_SEQUENCE_LENGTH,))\n",
    "x = embedding_layer(X)\n",
    "x = Conv1D(128, 3, activation='relu')(x)\n",
    "x = MaxPooling1D(3)(x)\n",
    "x = Conv1D(128, 3, activation='relu')(x)\n",
    "x = MaxPooling1D(3)(x)\n",
    "x = Conv1D(128, 3, activation='relu')(x)\n",
    "x = GlobalMaxPooling1D()(x)\n",
    "x = Dense(128, activation='relu')(x)\n",
    "Y = Dense(len(labels), activation='sigmoid')(x)\n"
   ]
  },
  {
   "cell_type": "code",
   "execution_count": 40,
   "metadata": {},
   "outputs": [],
   "source": [
    "model = Model(X, Y)\n",
    "model.compile(\n",
    "  loss='binary_crossentropy',\n",
    "  optimizer='rmsprop',\n",
    "  metrics=['accuracy']\n",
    ")\n"
   ]
  },
  {
   "cell_type": "code",
   "execution_count": 42,
   "metadata": {},
   "outputs": [
    {
     "name": "stdout",
     "output_type": "stream",
     "text": [
      "Training model...\n",
      "Train on 127656 samples, validate on 31915 samples\n",
      "Epoch 1/10\n",
      "127656/127656 [==============================] - 472s 4ms/step - loss: 0.0892 - acc: 0.9717 - val_loss: 0.0776 - val_acc: 0.9735\n",
      "Epoch 2/10\n",
      "127656/127656 [==============================] - 375s 3ms/step - loss: 0.0722 - acc: 0.9761 - val_loss: 0.0734 - val_acc: 0.9752\n",
      "Epoch 3/10\n",
      "127656/127656 [==============================] - 404s 3ms/step - loss: 0.0692 - acc: 0.9768 - val_loss: 0.0691 - val_acc: 0.9766\n",
      "Epoch 4/10\n",
      "127656/127656 [==============================] - 418s 3ms/step - loss: 0.0670 - acc: 0.9775 - val_loss: 0.0714 - val_acc: 0.9761\n",
      "Epoch 5/10\n",
      "127656/127656 [==============================] - 450s 4ms/step - loss: 0.0655 - acc: 0.9776 - val_loss: 0.0745 - val_acc: 0.9738\n",
      "Epoch 6/10\n",
      "127656/127656 [==============================] - 510s 4ms/step - loss: 0.0638 - acc: 0.9781 - val_loss: 0.0724 - val_acc: 0.9766\n",
      "Epoch 7/10\n",
      "127656/127656 [==============================] - 534s 4ms/step - loss: 0.0630 - acc: 0.9784 - val_loss: 0.0676 - val_acc: 0.9773\n",
      "Epoch 8/10\n",
      "127656/127656 [==============================] - 457s 4ms/step - loss: 0.0616 - acc: 0.9786 - val_loss: 0.1300 - val_acc: 0.9484\n",
      "Epoch 9/10\n",
      "127656/127656 [==============================] - 415s 3ms/step - loss: 0.0613 - acc: 0.9787 - val_loss: 0.0745 - val_acc: 0.9766\n",
      "Epoch 10/10\n",
      "127656/127656 [==============================] - 421s 3ms/step - loss: 0.0601 - acc: 0.9790 - val_loss: 0.0749 - val_acc: 0.9766\n"
     ]
    }
   ],
   "source": [
    "print('Training model...')\n",
    "cnn = model.fit(\n",
    "  data,\n",
    "  target,\n",
    "  batch_size=BATCH_SIZE,\n",
    "  epochs=EPOCHS,\n",
    "  validation_split=VALIDATION_SPLIT\n",
    ")"
   ]
  },
  {
   "cell_type": "code",
   "execution_count": 46,
   "metadata": {},
   "outputs": [
    {
     "data": {
      "image/png": "[encoded data removed]",
      "text/plain": [
       "<Figure size 432x288 with 1 Axes>"
      ]
     },
     "metadata": {},
     "output_type": "display_data"
    },
    {
     "data": {
      "image/png": "[encoded data removed]",
      "text/plain": [
       "<Figure size 432x288 with 1 Axes>"
      ]
     },
     "metadata": {},
     "output_type": "display_data"
    }
   ],
   "source": [
    "plt.plot(cnn.history['loss'], label='loss')\n",
    "plt.plot(cnn.history['val_loss'], label='val_loss')\n",
    "plt.legend()\n",
    "plt.show()\n",
    "plt.plot(cnn.history['acc'], label='acc')\n",
    "plt.plot(cnn.history['val_acc'], label='val_acc')\n",
    "plt.legend()\n",
    "plt.show()"
   ]
  },
  {
   "cell_type": "code",
   "execution_count": 47,
   "metadata": {},
   "outputs": [
    {
     "name": "stdout",
     "output_type": "stream",
     "text": [
      "0.9710611137251685\n"
     ]
    }
   ],
   "source": [
    "p = model.predict(data)\n",
    "aucs = []\n",
    "for j in range(6):\n",
    "    auc = roc_auc_score(target[:,j], p[:,j])\n",
    "    aucs.append(auc)\n",
    "print(np.mean(aucs))"
   ]
  },
  {
   "cell_type": "markdown",
   "metadata": {},
   "source": [
    "# RNN"
   ]
  },
  {
   "cell_type": "code",
   "execution_count": 83,
   "metadata": {},
   "outputs": [],
   "source": [
    "from keras.layers import LSTM, Bidirectional, GlobalMaxPool1D, Dropout\n",
    "from keras.optimizers import Adam\n",
    "\n",
    "import keras.backend as K\n",
    "if len(K.tensorflow_backend._get_available_gpus()) > 0:\n",
    "      from keras.layers import CuDNNLSTM as LSTM\n",
    "      from keras.layers import CuDNNGRU as GRU"
   ]
  },
  {
   "cell_type": "code",
   "execution_count": 84,
   "metadata": {},
   "outputs": [],
   "source": [
    "MAX_SEQUENCE_LENGTH = 100\n",
    "MAX_VOCAB_SIZE = 20000\n",
    "EMBEDDING_DIMM = 50\n",
    "VALIDATION_SPLIT = 0.2\n",
    "BATCH_SIZE = 128\n",
    "EPOCHSS = 5"
   ]
  },
  {
   "cell_type": "code",
   "execution_count": 87,
   "metadata": {},
   "outputs": [],
   "source": [
    "\n",
    "\n",
    "inputs = Input(shape=(MAX_SEQUENCE_LENGTH,))\n",
    "x2 = embedding_layer(inputs)\n",
    "x2 = Bidirectional(LSTM(15, return_sequences=True))(x2)\n",
    "x2 = GlobalMaxPool1D()(x2)\n",
    "outputs = Dense(len(labels), activation=\"sigmoid\")(x2)\n",
    "\n",
    "model = Model(inputs, outputs)\n",
    "model.compile(\n",
    "  loss='binary_crossentropy',\n",
    "  optimizer=Adam(lr=0.01),\n",
    "  metrics=['accuracy']\n",
    ")\n"
   ]
  },
  {
   "cell_type": "code",
   "execution_count": 89,
   "metadata": {},
   "outputs": [
    {
     "name": "stdout",
     "output_type": "stream",
     "text": [
      "Training model...\n",
      "Train on 127656 samples, validate on 31915 samples\n",
      "Epoch 1/5\n",
      "127656/127656 [==============================] - 347s 3ms/step - loss: 0.0672 - acc: 0.9774 - val_loss: 0.0552 - val_acc: 0.9806\n",
      "Epoch 2/5\n",
      "127656/127656 [==============================] - 346s 3ms/step - loss: 0.0522 - acc: 0.9813 - val_loss: 0.0528 - val_acc: 0.9807\n",
      "Epoch 3/5\n",
      "127656/127656 [==============================] - 396s 3ms/step - loss: 0.0495 - acc: 0.9820 - val_loss: 0.0509 - val_acc: 0.9817\n",
      "Epoch 4/5\n",
      "127656/127656 [==============================] - 467s 4ms/step - loss: 0.0482 - acc: 0.9825 - val_loss: 0.0517 - val_acc: 0.9811\n",
      "Epoch 5/5\n",
      "127656/127656 [==============================] - 422s 3ms/step - loss: 0.0470 - acc: 0.9826 - val_loss: 0.0503 - val_acc: 0.9818\n"
     ]
    }
   ],
   "source": [
    "print('Training model...')\n",
    "rnn = model.fit(\n",
    "  data,\n",
    "  target,\n",
    "  batch_size=BATCH_SIZE,\n",
    "  epochs=EPOCHSS,\n",
    "  validation_split=VALIDATION_SPLIT\n",
    ")"
   ]
  },
  {
   "cell_type": "code",
   "execution_count": 91,
   "metadata": {},
   "outputs": [
    {
     "name": "stdout",
     "output_type": "stream",
     "text": [
      "0.9821262093904505\n"
     ]
    }
   ],
   "source": [
    "pred = model.predict(data)\n",
    "auccs = []\n",
    "for j in range(6):\n",
    "    aucc = roc_auc_score(target[:,j], pred[:,j])\n",
    "    auccs.append(aucc)\n",
    "print(np.mean(auccs))\n"
   ]
  },
  {
   "cell_type": "markdown",
   "metadata": {},
   "source": [
    "# RNN with Bidirectional = 98%\n",
    "# CNN = 97% \n",
    "# of Accuracy 127656 train samples, validation on 31915 test samples"
   ]
  },
  {
   "cell_type": "code",
   "execution_count": null,
   "metadata": {},
   "outputs": [],
   "source": []
  },
  {
   "cell_type": "code",
   "execution_count": null,
   "metadata": {},
   "outputs": [],
   "source": []
  }
 ],
 "metadata": {
  "kernelspec": {
   "display_name": "Python 3",
   "language": "python",
   "name": "python3"
  },
  "language_info": {
   "codemirror_mode": {
    "name": "ipython",
    "version": 3
   },
   "file_extension": ".py",
   "mimetype": "text/x-python",
   "name": "python",
   "nbconvert_exporter": "python",
   "pygments_lexer": "ipython3",
   "version": "3.6.5"
  }
 },
 "nbformat": 4,
 "nbformat_minor": 2
}
